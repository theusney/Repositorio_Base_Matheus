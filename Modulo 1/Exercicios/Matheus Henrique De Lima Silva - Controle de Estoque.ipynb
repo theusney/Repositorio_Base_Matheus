{
 "cells": [
  {
   "cell_type": "markdown",
   "id": "75d81485",
   "metadata": {},
   "source": [
    "### Controle de Estoque\n",
    "\n",
    "Crie um programa em Python que simule um controle de estoque simples. O programa deve:\n",
    "\n",
    "Solicitar que o usuário digite o nome de um produto e a quantidade atual desse produto no estoque.\n",
    "\n",
    "Verificar a quantidade informada e exibir uma mensagem de acordo com as seguintes regras:\n",
    "\n",
    "Se a quantidade for igual a 0, imprima:\n",
    "\"[Produto] está em falta! Compre imediatamente!\"\n",
    "\n",
    "Se a quantidade for menor que 10, imprima:\n",
    "\"[Produto] está quase acabando! Favor repor estoque.\"\n",
    "\n",
    "Se a quantidade for maior que 30, imprima:\n",
    "\"[Produto] em excesso! Não é necessário comprar mais.\"\n",
    "\n",
    "Caso contrário (quantidade entre 10 e 30), imprima:\n",
    "\"Estoque de [Produto] dentro do normal.\""
   ]
  },
  {
   "cell_type": "code",
   "execution_count": 2,
   "id": "e3d31a81",
   "metadata": {},
   "outputs": [
    {
     "name": "stdout",
     "output_type": "stream",
     "text": [
      "o produlto coca cola está em excesso, com a quantia de 40\n"
     ]
    }
   ],
   "source": [
    "nome_produlto = input(\"digite o nome do produlto\")\n",
    "quantidade_produto = int(input(\"qual a quantidade do produlto\"))\n",
    "\n",
    "if quantidade_produto == 0:\n",
    "    print(f\"o porduto {nome_produlto} esta em falta compre imediatamente\")\n",
    "elif quantidade_produto <= 10:\n",
    "    print(f\"o produto {nome_produlto} tem no estoque {quantidade_produto} nao sera necessario comprar mais\")\n",
    "elif quantidade_produto >= 30:\n",
    "    print(f\"o produlto {nome_produlto} está em excesso, com a quantia de {quantidade_produto}\")\n",
    "else:\n",
    "    print (f\"o estoque do produto {nome_produlto}dentro do normal\")\n",
    "    "
   ]
  },
  {
   "cell_type": "code",
   "execution_count": null,
   "id": "2d54bc11",
   "metadata": {},
   "outputs": [],
   "source": []
  },
  {
   "cell_type": "markdown",
   "id": "eb4a920a",
   "metadata": {},
   "source": [
    "### CNH MELHORADO\n",
    "\n",
    "Crie um programa em Python que verifique se uma pessoa pode dirigir com base em duas condições:\n",
    "\n",
    "Idade mínima: 18 anos ou mais.\n",
    "\n",
    "Aprovação no curso da CNH (Carteira Nacional de Habilitação).\n",
    "\n",
    "O programa deve:\n",
    "\n",
    "Solicitar que o usuário informe sua idade (em anos).\n",
    "\n",
    "Perguntar se foi aprovado no curso da CNH (receber uma resposta como \"sim\" ou \"não\").\n",
    "\n",
    "Verificar as condições:\n",
    "\n",
    "Se a idade for 18 anos ou mais E a resposta for \"sim\" para a aprovação no curso da CNH, imprima:\n",
    "\"Você pode dirigir!\"\n",
    "\n",
    "Caso contrário (se qualquer uma das condições não for atendida), imprima:\n",
    "\"Você não pode dirigir.\""
   ]
  },
  {
   "cell_type": "code",
   "execution_count": null,
   "id": "52bdc3e5",
   "metadata": {},
   "outputs": [],
   "source": [
    " #1 -PEÇA AO USUÁRIO QUE DIGITE A IDADE DELE\n",
    "idade = int(input(\"Informe sua idade\"))\n",
    "idade_minima = 18\n",
    "\n",
    " #2 - PEÇA PRA ELE DIZER SE FOI APROVADO OU REPROVADO NO CURSO DE CNH\n",
    "resultado_cnh = input(\"Informe se você foi aprovado ou reprovado no curso:\").lower()\n",
    "resultado_esperado = \"aprovado\"\n",
    "\n",
    " #3 - USE IF E ELSE PARA VERIFICAR SE ELE TEM 18 ANOS OU MAIS E FOI APROVADO\n",
    "if idade >= idade_minima and resultado_cnh == resultado_esperado:\n",
    "    print(\"Pode dirigir\")\n",
    "else:\n",
    "    print(\"Não pode dirigir\")\n"
   ]
  },
  {
   "cell_type": "markdown",
   "id": "e91ac5e9",
   "metadata": {},
   "source": [
    "### Calculadora Básica"
   ]
  },
  {
   "cell_type": "markdown",
   "id": "f4c8282a",
   "metadata": {},
   "source": [
    "Crie um programa em Python que funcione como uma calculadora básica, seguindo os passos abaixo:\n",
    "\n",
    "Solicite dois números ao usuário (podem ser inteiros ou quebrados).\n",
    "\n",
    "Peça que o usuário escolha uma das seguintes operações matemáticas:\n",
    "\n",
    "Somar (+)\n",
    "\n",
    "Subtrair (-)\n",
    "\n",
    "Multiplicar (*)\n",
    "\n",
    "Dividir (/)\n",
    "\n",
    "Realize a operação selecionada com os dois números digitados.\n",
    "\n",
    "Mostre na tela os dois números digitados, além do resulado da operação solicitada\n",
    "\n",
    "\n",
    "Obs: Utilize estruturas condicionais (if, elif, else) para verificar a operação escolhida."
   ]
  },
  {
   "cell_type": "code",
   "execution_count": 1,
   "id": "04bb1c77",
   "metadata": {},
   "outputs": [
    {
     "name": "stdout",
     "output_type": "stream",
     "text": [
      " A soma do 10.0 + 10.0 = 20.0\n"
     ]
    }
   ],
   "source": [
    "numero_1 = float(input(\"digite o primeiro  numero\"))\n",
    "numero_2 = float(input(\"digite o segundo numero\"))\n",
    "operacao = input(\"qual operação você escolhe (+),(-),(*),(/)\")\n",
    "\n",
    "if operacao == \"soma\" or operacao == \"+\":\n",
    "    soma = numero_1 + numero_2\n",
    "    print(f\" A soma do {numero_1} + {numero_2} = {soma}\")\n",
    "elif operacao == \"subtração\" or operacao == \"-\":\n",
    "    subtração = numero_1 - numero_2\n",
    "    print(f\" A subtração do {numero_1} - {numero_2} = {subtração}\")\n",
    "elif operacao == \"multiplicar\" or operacao == \"*\":\n",
    "    multiplicacao = numero_1 * numero_2\n",
    "    print(f\" A multiplicação do {numero_1} * {numero_2} = {multiplicacao}\")\n",
    "elif operacao == \"dividir\" or operacao == \"/\":\n",
    "    dividir = numero_1 / numero_2\n",
    "    print(f\" A divisão do {numero_1} / {numero_2} = {dividir}\")\n",
    "else:\n",
    "    print(\"Não existe essa conta burro\")\n",
    "\n",
    " "
   ]
  },
  {
   "cell_type": "markdown",
   "id": "dc1044fc",
   "metadata": {},
   "source": [
    "### WHILE (enquanto)\n",
    "\n",
    "A palavra while, signifca enquanto utilizamos ela para que enquanto uma condição por atendida ela fazer uma ação várias vezes."
   ]
  },
  {
   "cell_type": "code",
   "execution_count": 1,
   "id": "b180c369",
   "metadata": {},
   "outputs": [
    {
     "name": "stdout",
     "output_type": "stream",
     "text": [
      "Bem vindo ao Sistema Mateus\n"
     ]
    }
   ],
   "source": [
    "usuario_correto = \"Mateus\"\n",
    "senha_correta = \"123\"\n",
    "tentativa = 3\n",
    "\n",
    "while tentativa > 0:\n",
    "    nome_usuario = input(\"Digite seu nome de usuário\")\n",
    "    senha_usuario = input(\"Digite sua senha\")\n",
    "\n",
    "    if nome_usuario == usuario_correto and senha_usuario == senha_correta:\n",
    "        print(f\"Bem vindo ao Sistema {nome_usuario}\")\n",
    "        break\n",
    "    else:\n",
    "        print(\"O usuário e senha não existe\")\n",
    "        tentativa -= 1\n",
    "\n",
    "if tentativa ==0:\n",
    "    print(f\"Você esgotou o número de tentivas, usuário bloqueado\")"
   ]
  },
  {
   "cell_type": "markdown",
   "id": "a43aa484",
   "metadata": {},
   "source": [
    "### Desafio Criar um sistema de login\n",
    "\n",
    "Crie um sistema que você peça ao usuário que informe/digite nome e senha, use o while para enquanto a senha ou o nome estiverem errados\n",
    "print(\"Usuário ou senha incorreta, tente novamente\")"
   ]
  },
  {
   "cell_type": "code",
   "execution_count": null,
   "id": "4413298f",
   "metadata": {},
   "outputs": [
    {
     "name": "stdout",
     "output_type": "stream",
     "text": [
      "Bem vindo ao sistema\n"
     ]
    }
   ],
   "source": [
    "\n",
    "nome_correto = \"Mateus\"\n",
    "senha_correta = \"123\"\n",
    "acertou= False\n",
    "\n",
    "while not acertou:\n",
    "    nome_usuario = input(\"Digite seu nome de usuário\")\n",
    "    senha_usuario = input(\"Digite sua senha\")\n",
    "\n",
    "    if nome_correto == nome_usuario and senha_usuario == senha_correta:\n",
    "        print(\"Bem vindo ao sistema\")\n",
    "        acertou = True\n",
    "\n",
    "    else:\n",
    "        print(\"Erro: usuário ou senha incorretos. Tente novamente.\")\n",
    "\n"
   ]
  }
 ],
 "metadata": {
  "kernelspec": {
   "display_name": "Python 3",
   "language": "python",
   "name": "python3"
  },
  "language_info": {
   "codemirror_mode": {
    "name": "ipython",
    "version": 3
   },
   "file_extension": ".py",
   "mimetype": "text/x-python",
   "name": "python",
   "nbconvert_exporter": "python",
   "pygments_lexer": "ipython3",
   "version": "3.13.2"
  }
 },
 "nbformat": 4,
 "nbformat_minor": 5
}
