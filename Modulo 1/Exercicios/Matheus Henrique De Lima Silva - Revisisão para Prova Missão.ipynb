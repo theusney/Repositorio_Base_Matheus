{
 "cells": [
  {
   "cell_type": "markdown",
   "id": "f445e552",
   "metadata": {},
   "source": [
    "### 🧪 Revisão de prova - Missão: Condicionais 🤖\n",
    "\n",
    "Você está sendo avaliado(a) em sua habilidade de tomar decisões automatizadas por meio de códigos. Em cada uma das atividades a seguir, use estruturas condicionais com sabedoria."
   ]
  },
  {
   "cell_type": "markdown",
   "id": "769337a0",
   "metadata": {},
   "source": [
    "### ⚖️ Desafio 01 - Avaliação de Desempenho na Agência 🧾 (Usando if, múltiplos elif e else)"
   ]
  },
  {
   "cell_type": "markdown",
   "id": "14f80018",
   "metadata": {},
   "source": [
    "O Sistema de Avaliação da Agência Central de Inteligência precisa classificar os agentes de acordo com sua nota final. Sua missão é automatizar esse processo."
   ]
  },
  {
   "cell_type": "markdown",
   "id": "89f6fff0",
   "metadata": {},
   "source": [
    "🎯 Objetivo:\n",
    "Solicitar o nome do agente e sua nota final (0 a 10).\n",
    "Exibir a classificação:"
   ]
  },
  {
   "cell_type": "markdown",
   "id": "234495dd",
   "metadata": {},
   "source": [
    "Solicitar o nome do agente e sua nota final (0 a 10).\n",
    "Exibir a classificação:\n",
    "\n",
    "Nota\tClassificação\n",
    "\n",
    "9.0 a 10.0\tExcelente 🏅\n",
    "\n",
    "7.0 a 8.9\tBom 👍\n",
    "\n",
    "5.0 a 6.9\tRegular ⚠️\n",
    "\n",
    "3.0 a 4.9\tRuim 🚫\n",
    "\n",
    "0.0 a 2.9\tCrítico 🚨\n",
    "Fora do intervalo\tNota inválida ❌\n"
   ]
  },
  {
   "cell_type": "markdown",
   "id": "41369ade",
   "metadata": {},
   "source": [
    "Exibir mensagem:\n",
    "\"Agente [NOME], sua classificação é: [classificação] (nota: [nota])\"\n"
   ]
  },
  {
   "cell_type": "markdown",
   "id": "bd552298",
   "metadata": {},
   "source": [
    "📦 Instruções Gerais\n",
    "\n",
    "Mantenha seu código indentado corretamente e com prints claros.\n",
    "Personalize a saída sempre que possível usando o nome do usuário.\n"
   ]
  },
  {
   "cell_type": "markdown",
   "id": "e540ea62",
   "metadata": {},
   "source": [
    "Boa sorte nas decisões lógicas, agente.\n",
    "A sua capacidade de condicionar pode alterar o curso do código.\n"
   ]
  },
  {
   "cell_type": "code",
   "execution_count": 2,
   "id": "77ac96b4",
   "metadata": {},
   "outputs": [
    {
     "name": "stdout",
     "output_type": "stream",
     "text": [
      "agente matheus, Sua classificação é : 10.0, Excelente !!!!!!\n"
     ]
    }
   ],
   "source": [
    "nome_agente = input(\"Qual seu nome?\")\n",
    "nota_final = float(input(\"Qual sua nota final?(0 A 10)\"))\n",
    "\n",
    "if nota_final >=9.0 and nota_final <=10:\n",
    "\n",
    "    print(f\"agente {nome_agente}, Sua classificação é : {nota_final}, Excelente !!!!!!\")\n",
    "\n",
    "elif nota_final >= 7.0 and nota_final <= 8.9 :\n",
    "    print(f\"agente {nome_agente}, Sua classificação é : {nota_final}, Bom !\")\n",
    "\n",
    "elif nota_final >=5.0 and nota_final <= 6.9 :\n",
    "     print(f\"agente {nome_agente}, Sua classificação é : {nota_final}, Regular !\")\n",
    "\n",
    "elif nota_final >= 3.0 and nota_final <= 4.9 :\n",
    "     print(f\"ruim\")\n",
    "elif nota_final >= 0.0 and nota_final <= 2.9 :\n",
    "      print(f\"agente {nome_agente}, Sua classificação é : {nota_final}, critico !\")\n",
    "\n",
    "else:\n",
    "     print(f\"Fora do intervalo nota invalida \")\n",
    "    "
   ]
  },
  {
   "cell_type": "code",
   "execution_count": 5,
   "id": "d59e40f0",
   "metadata": {},
   "outputs": [
    {
     "name": "stdout",
     "output_type": "stream",
     "text": [
      "O agente mateus teve a clasificação invalida❌\n"
     ]
    }
   ],
   "source": [
    "nome_agente = input(\"Qual seu nome?\")\n",
    "nota_final = float(input(\"Qual sua nota final?(0 A 10)\"))\n",
    "\n",
    "if nota_final >= 9.0 and nota_final <=10.0:\n",
    "    classicacao = \"exelente🏅\"\n",
    "elif nota_final >= 7.0 and nota_final <= 8.9:\n",
    "    classicacao = \"boa👍\"\n",
    "elif nota_final >= 5.0 and nota_final <= 6.9:\n",
    "    classicacao = \"Regular⚠️\"\n",
    "elif nota_final >= 3.0 and nota_final <= 4.9:\t\n",
    "    classicacao = \"Ruim🚫\"\n",
    "elif nota_final >= 0.0 and nota_final <= 2.9:\n",
    "    classicacao = \"Critica🚨\"\n",
    "\n",
    "else:\n",
    "    classicacao = \"invalida❌\"\n",
    "\n",
    "print(F\"O agente {nome_agente} teve a clasificação {classicacao}\")\n",
    "\n"
   ]
  }
 ],
 "metadata": {
  "kernelspec": {
   "display_name": "Python 3",
   "language": "python",
   "name": "python3"
  },
  "language_info": {
   "codemirror_mode": {
    "name": "ipython",
    "version": 3
   },
   "file_extension": ".py",
   "mimetype": "text/x-python",
   "name": "python",
   "nbconvert_exporter": "python",
   "pygments_lexer": "ipython3",
   "version": "3.13.2"
  }
 },
 "nbformat": 4,
 "nbformat_minor": 5
}
