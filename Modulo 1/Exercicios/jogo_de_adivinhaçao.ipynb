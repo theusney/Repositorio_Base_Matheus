{
 "cells": [
  {
   "cell_type": "markdown",
   "id": "2d485dfd",
   "metadata": {},
   "source": [
    "### Jogo de advinhação \n",
    "Vamos criar um jogo que advinha o número que o usuário digitou!!!"
   ]
  },
  {
   "cell_type": "code",
   "execution_count": null,
   "id": "1bd32d82",
   "metadata": {},
   "outputs": [
    {
     "name": "stdout",
     "output_type": "stream",
     "text": [
      "jogo de adivinhação!!! Boa Sorte!!\n",
      "-------------------------------------\n",
      "seu besta,acertei a letra, tenho ctz que é a K\n"
     ]
    }
   ],
   "source": [
    "print(\"jogo de adivinhação!!! Boa Sorte!!\")\n",
    "print(\"-------------------------------------\")\n",
    "letra = (input(\"informe uma letra qualquer:!!!!\"))\n",
    "print(f\"seu besta,acertei a letra, tenho ctz que é a {letra}\")"
   ]
  },
  {
   "cell_type": "markdown",
   "id": "6cda0307",
   "metadata": {},
   "source": [
    "### Meu carro dos sonhos\n",
    "Vamos pedir para o usuário nos informe o nome e o preço do carro do sonhos"
   ]
  },
  {
   "cell_type": "code",
   "execution_count": 11,
   "id": "0642e200",
   "metadata": {},
   "outputs": [
    {
     "name": "stdout",
     "output_type": "stream",
     "text": [
      "Seu carro dos sonhos!!!!!!!\n",
      "------------------------\n",
      "O nome do carro é civic\n",
      "O preço do carro é 60000.0\n",
      "O ano do carro e  2014\n",
      "A cor do carro é preto\n",
      "falta 57500.0 para realizar o seu sonho:\n"
     ]
    }
   ],
   "source": [
    "nome_carro = (input(\"informe o nome do seu carro dos sonhos:!!!!\"))\n",
    "preco_carro = float(input(\"informe o preço do carro:!!!!\"))\n",
    "ano_carro = (input(\"informe o ano do carro:!!!!\"))\n",
    "cor_carro = (input(\"informe a cor do carro:!!!!\"))\n",
    "quantia_carro =  float(input(\"quantos você tem?:!!!!\"))\n",
    "print(\"Seu carro dos sonhos!!!!!!!\")\n",
    "print(\"------------------------\")\n",
    "print(f\"O nome do carro é {nome_carro}\")\n",
    "print(f\"O preço do carro é {preco_carro}\")\n",
    "print(f\"O ano do carro e  {ano_carro}\")\n",
    "print(f\"A cor do carro é {cor_carro}\")\n",
    "quanto_falta = (preco_carro - quantia_carro)\n",
    "print(f\"falta {quanto_falta} para realizar o seu sonho:\")\n",
    "\n"
   ]
  },
  {
   "cell_type": "markdown",
   "id": "28ae122a",
   "metadata": {},
   "source": [
    "### Agenda de celular\n",
    "\n",
    "Peça ao usuário que informe o nome dele e o número do telefone dele\n",
    "\n",
    "Depois mostre ao usuário print() com uma mensagem o nome dele e o telefone"
   ]
  },
  {
   "cell_type": "code",
   "execution_count": 14,
   "id": "6ab9a1ef",
   "metadata": {},
   "outputs": [
    {
     "name": "stdout",
     "output_type": "stream",
     "text": [
      "que bom saber o seu nome Matheus Henrique ,e o seu número de telefone 11939470607 \n"
     ]
    }
   ],
   "source": [
    "nome_usuario = (input(\"informe o seu nome:!!!!\"))\n",
    "numero_telefone = (input(\"informe o seu numero de telefone:!!!!\"))\n",
    "print(f\"que bom saber o seu nome {nome_usuario},e o seu número de telefone {numero_telefone} \")\n"
   ]
  }
 ],
 "metadata": {
  "kernelspec": {
   "display_name": "Python 3",
   "language": "python",
   "name": "python3"
  },
  "language_info": {
   "codemirror_mode": {
    "name": "ipython",
    "version": 3
   },
   "file_extension": ".py",
   "mimetype": "text/x-python",
   "name": "python",
   "nbconvert_exporter": "python",
   "pygments_lexer": "ipython3",
   "version": "3.13.2"
  }
 },
 "nbformat": 4,
 "nbformat_minor": 5
}
