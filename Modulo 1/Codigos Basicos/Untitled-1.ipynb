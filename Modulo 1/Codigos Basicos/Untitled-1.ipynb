{
 "cells": [
  {
   "cell_type": "code",
   "execution_count": null,
   "id": "789c8fad",
   "metadata": {},
   "outputs": [],
   "source": [
    "nome = input(\"seu nome é?\")\n",
    "idade = input(\"sua idade?\")\n",
    "print(f\"seu nome é\")\n",
    "print(f\"sua idade é\")"
   ]
  },
  {
   "cell_type": "code",
   "execution_count": 5,
   "id": "12569cb9",
   "metadata": {},
   "outputs": [
    {
     "name": "stdout",
     "output_type": "stream",
     "text": [
      "17\n"
     ]
    }
   ],
   "source": [
    "ano_atual = int (input(\"qual ano estamos?\"))\n",
    "ano_nasceu = int (input(\"que ano você nasceu?\"))\n",
    "idade = (ano_atual - ano_nasceu)\n",
    "print(idade)\n"
   ]
  },
  {
   "cell_type": "markdown",
   "id": "7f5a0df5",
   "metadata": {},
   "source": [
    "### Calcula media "
   ]
  },
  {
   "cell_type": "code",
   "execution_count": null,
   "id": "f82e06a9",
   "metadata": {},
   "outputs": [
    {
     "name": "stdout",
     "output_type": "stream",
     "text": [
      "17\n"
     ]
    }
   ],
   "source": [
    "numero_1 = int (input(\"digita um numero?\"))\n",
    "numero_2 = int (input(\"digita outro numero?\"))\n",
    "media = ((numero_1 + numero_2)/2)\n",
    "print(media)"
   ]
  },
  {
   "cell_type": "markdown",
   "id": "e3ca39a3",
   "metadata": {},
   "source": [
    "### Quero de conhecer melhor"
   ]
  },
  {
   "cell_type": "code",
   "execution_count": 3,
   "id": "560c26cf",
   "metadata": {},
   "outputs": [
    {
     "name": "stdout",
     "output_type": "stream",
     "text": [
      "Que bom te conhecer Matheus, e saber o seu hobbie que é jogar bola,e o seu gosto musical é  eu nao sou de me entregar \n"
     ]
    }
   ],
   "source": [
    "nome_usuario = input(\"Qual seu nome?\")\n",
    "hobbie = input(\"Qual seu hobbie?\")\n",
    "musica_usuario = input(\"Qual sua musica favorita?\")\n",
    "print (f\"Que bom te conhecer {nome_usuario}, e saber o seu hobbie que é {hobbie},e o seu gosto musical é {musica_usuario}\")"
   ]
  },
  {
   "cell_type": "markdown",
   "id": "93a40fab",
   "metadata": {},
   "source": [
    "### if e else"
   ]
  },
  {
   "cell_type": "code",
   "execution_count": 10,
   "id": "e23107e2",
   "metadata": {},
   "outputs": [
    {
     "name": "stdout",
     "output_type": "stream",
     "text": [
      "te vejo ano que vem hahaha\n"
     ]
    }
   ],
   "source": [
    "nota1 =float(input(\"digite sua primeira nota\"))\n",
    "nota2 =float(input(\"digite sua segunda nota\"))\n",
    "nota3 = float (input(\"digite sua terceira nota\"))\n",
    "media=(nota1 + nota2 + nota3)\n",
    "\n",
    "\n",
    "\n",
    "if media >=5:\n",
    "    print(\"voce foi aprovado\")\n",
    "else:\n",
    "    print(\"te vejo ano que vem hahaha\")    \n"
   ]
  },
  {
   "cell_type": "markdown",
   "id": "a203351e",
   "metadata": {},
   "source": [
    "### Contatinho"
   ]
  },
  {
   "cell_type": "code",
   "execution_count": 13,
   "id": "b4fd3c54",
   "metadata": {},
   "outputs": [
    {
     "name": "stdout",
     "output_type": "stream",
     "text": [
      "você não e meu crush\n"
     ]
    }
   ],
   "source": [
    "nome_usuario = input(\"qual seu nome?\")\n",
    "telefone =input(\"qual seu telefone?\")\n",
    "crush = \"NEYMAR\"\n",
    "\n",
    "if nome_usuario == crush:\n",
    "    print(\"você é meu crush\")\n",
    "else:\n",
    "    print(\"você não e meu crush\")    \n",
    "    "
   ]
  },
  {
   "cell_type": "markdown",
   "id": "ea3990fd",
   "metadata": {},
   "source": [
    "### Musica favorita "
   ]
  },
  {
   "cell_type": "code",
   "execution_count": 4,
   "id": "30be2515",
   "metadata": {},
   "outputs": [
    {
     "name": "stdout",
     "output_type": "stream",
     "text": [
      "essa e boa em\n"
     ]
    }
   ],
   "source": [
    "musica_favorita = input(\"qual sua musica favorita?\")\n",
    "musica = \"set dos casados 2\"\n",
    "\n",
    "if musica_favorita == musica:\n",
    "    print(\"essa e boa em\")\n",
    "else:\n",
    "    print(\"odeio essa musica\")    "
   ]
  },
  {
   "cell_type": "markdown",
   "id": "2b45dfd0",
   "metadata": {},
   "source": [
    "### CNH"
   ]
  },
  {
   "cell_type": "code",
   "execution_count": 3,
   "id": "fdfdf72a",
   "metadata": {},
   "outputs": [
    {
     "name": "stdout",
     "output_type": "stream",
     "text": [
      "Volte sempre com dinheiro no bolso\n"
     ]
    }
   ],
   "source": [
    "idade_usuario = float(input(\"qual sua idade?\"))\n",
    "aprovado = input(\"você foi aprovado ou reprovado no teste da CNH?\").lower()\n",
    "cnh = \"aprovado\"\n",
    "\n",
    "\n",
    "if idade_usuario >= 18 and  aprovado == cnh :\n",
    "    print(\"você foi aprovado!!!\")\n",
    "\n",
    "else:\n",
    "    print(\"Volte sempre com dinheiro no bolso\")   \n",
    "\n"
   ]
  },
  {
   "cell_type": "markdown",
   "id": "d2e079b0",
   "metadata": {},
   "source": [
    "### FABRICA DE PROGRAMADORES"
   ]
  },
  {
   "cell_type": "code",
   "execution_count": 10,
   "id": "7ff9800a",
   "metadata": {},
   "outputs": [
    {
     "name": "stdout",
     "output_type": "stream",
     "text": [
      "você não pode realizar o curso\n"
     ]
    }
   ],
   "source": [
    "ano_colegio = int(input(\"Qual ano do colegio você está?\"))\n",
    "escola = input(\"Você estuda em santana?\").lower()\n",
    "escola_esperada = \"sim\"\n",
    "\n",
    "if ano_colegio == 3 and escola == escola_esperada:\n",
    "    print(\"você pode realizar o curso\")\n",
    "else:\n",
    "    print(\"você não pode realizar o curso\")"
   ]
  },
  {
   "cell_type": "markdown",
   "id": "4c7c5c5d",
   "metadata": {},
   "source": [
    "### Melhor musica"
   ]
  },
  {
   "cell_type": "code",
   "execution_count": null,
   "id": "bafdf1f2",
   "metadata": {},
   "outputs": [
    {
     "name": "stdout",
     "output_type": "stream",
     "text": [
      "essa e a melhor em,vamos para o vista juntos\n"
     ]
    }
   ],
   "source": [
    "musica_favorita = input(\"qual sua musica favorita?\").lower ()\n",
    "artista = input(\"qual seu cantor preferito?\").lower ()\n",
    "musica = \"k.o\"\n",
    "cantor = \"pablo vitar\"\n",
    "\n",
    "if musica_favorita == musica and artista == cantor :\n",
    "    print(\"essa e a melhor em,vamos para o vista juntos\")\n",
    "else:\n",
    "    print(\"essa e a pior,mude\")"
   ]
  },
  {
   "cell_type": "markdown",
   "id": "97d6e181",
   "metadata": {},
   "source": [
    "### MEU EMPREGO DOS SONHOS\n"
   ]
  },
  {
   "cell_type": "code",
   "execution_count": 2,
   "id": "c3dbcea8",
   "metadata": {},
   "outputs": [
    {
     "name": "stdout",
     "output_type": "stream",
     "text": [
      "10720\n"
     ]
    }
   ],
   "source": [
    "salario = 15000\n",
    "imposto = 4050\n",
    "desconto = 200\n",
    "netflix = 30\n",
    "sobrou = (salario - imposto - desconto - netflix)\n",
    "print (sobrou)"
   ]
  }
 ],
 "metadata": {
  "kernelspec": {
   "display_name": "Python 3",
   "language": "python",
   "name": "python3"
  },
  "language_info": {
   "codemirror_mode": {
    "name": "ipython",
    "version": 3
   },
   "file_extension": ".py",
   "mimetype": "text/x-python",
   "name": "python",
   "nbconvert_exporter": "python",
   "pygments_lexer": "ipython3",
   "version": "3.13.2"
  }
 },
 "nbformat": 4,
 "nbformat_minor": 5
}
