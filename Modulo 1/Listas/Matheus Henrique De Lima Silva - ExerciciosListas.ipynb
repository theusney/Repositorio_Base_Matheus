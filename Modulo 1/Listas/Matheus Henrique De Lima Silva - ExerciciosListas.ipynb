{
  "cells": [
    {
      "cell_type": "markdown",
      "metadata": {
        "id": "3-10nKaJicf0"
      },
      "source": [
        "### Listas em Python\n",
        "\n",
        "**O Que é uma Lista?**\n",
        "\n",
        "Imagine uma caixa organizadora onde você pode guardar vários itens diferentes, como números, textos, ou até outras caixas. Em Python, uma lista é exatamente isso: uma estrutura que armazena múltiplos valores em uma única variável, mantendo uma ordem específica.\n",
        "\n",
        "\n",
        "\n",
        "\n",
        "\n",
        "\n"
      ]
    },
    {
      "cell_type": "markdown",
      "metadata": {
        "id": "-e0BHYLcyoS6"
      },
      "source": [
        "\n",
        "**Como Criar uma Lista?**\n",
        "\n",
        "\n",
        "Usamos colchetes [ ] para definir uma lista, separando os elementos por vírgulas.\n"
      ]
    },
    {
      "cell_type": "code",
      "execution_count": 1,
      "metadata": {
        "id": "TAY8QREafsnK"
      },
      "outputs": [
        {
          "name": "stdout",
          "output_type": "stream",
          "text": [
            "([10, 'Maçã', True, 3.14, [1, 2, 3]],)\n"
          ]
        }
      ],
      "source": [
        "# Exemplo de lista com diferentes tipos de dados\n",
        "minha_lista = [10, \"Maçã\", True, 3.14, [1, 2, 3]],\n",
        "print(minha_lista)\n",
        "\n"
      ]
    },
    {
      "cell_type": "markdown",
      "metadata": {
        "id": "GOersz6ay-F6"
      },
      "source": [
        "\n",
        "**Aqui, minha_lista contém:**\n",
        "\n",
        "Um número inteiro (10),\n",
        "\n",
        "\n",
        "Uma string (\"Maçã\"),\n",
        "\n",
        "\n",
        "Um valor booleano (True),\n",
        "\n",
        "\n",
        "Um número decimal (3.14),\n",
        "\n",
        "\n",
        "E até outra lista ([1, 2, 3]).\n",
        "\n",
        "\n",
        "Isso mostra que listas são flexíveis e podem misturar tipos de dados.\n"
      ]
    },
    {
      "cell_type": "markdown",
      "metadata": {
        "id": "TtmN6kkmgkjy"
      },
      "source": [
        "## Principais Características das Listas\n",
        "1. Ordenadas → Têm Índices\n",
        "Cada elemento na lista tem uma posição fixa (índice), começando em 0."
      ]
    },
    {
      "cell_type": "code",
      "execution_count": 3,
      "metadata": {
        "id": "N-z3ky4wvY0L"
      },
      "outputs": [],
      "source": [
        "frutas = [\"maçã\", \"banana\", \"laranja\"]\n",
        "# Índices:    0        1         2"
      ]
    },
    {
      "cell_type": "code",
      "execution_count": 11,
      "metadata": {},
      "outputs": [
        {
          "name": "stdout",
          "output_type": "stream",
          "text": [
            "maçã\n",
            "banana\n",
            "laranja\n"
          ]
        }
      ],
      "source": [
        "# Acesse o ultimo item da lista de frutas\n",
        "print(frutas[0])\n",
        "print(frutas[1])\n",
        "print(frutas[-1])"
      ]
    },
    {
      "cell_type": "markdown",
      "metadata": {
        "id": "qNQGV5Afv6Za"
      },
      "source": [
        "frutas[0] retorna \"maçã\"\n",
        "\n",
        "frutas[2] retorna \"laranja\"\n",
        "\n",
        "Se tentar acessar um índice que não existe (ex: frutas[3]), Python retorna um erro."
      ]
    },
    {
      "cell_type": "markdown",
      "metadata": {
        "id": "TkSoiWXnzpvi"
      },
      "source": [
        "2. Mutáveis → Podem Ser Alteradas\n",
        "Diferente de strings (que são imutáveis), listas permitem modificações:"
      ]
    },
    {
      "cell_type": "code",
      "execution_count": 12,
      "metadata": {
        "colab": {
          "base_uri": "https://localhost:8080/"
        },
        "id": "yeYYns1qzxQS",
        "outputId": "40bebfd0-b75c-48e0-9ab5-fd6050aa0cac"
      },
      "outputs": [
        {
          "name": "stdout",
          "output_type": "stream",
          "text": [
            "['maçã', 'morango', 'laranja']\n"
          ]
        }
      ],
      "source": [
        "frutas[1] = \"morango\"  # Substitui \"banana\" por \"morango\"\n",
        "print(frutas)  # Saída: [\"maçã\", \"morango\", \"laranja\"]"
      ]
    },
    {
      "cell_type": "code",
      "execution_count": 13,
      "metadata": {},
      "outputs": [
        {
          "name": "stdout",
          "output_type": "stream",
          "text": [
            "['maçã', 'morango', 'melão']\n"
          ]
        }
      ],
      "source": [
        "#substitua o ultimo item da lista para melão\n",
        "frutas[2]= \"melão\"\n",
        "print(frutas)"
      ]
    },
    {
      "cell_type": "markdown",
      "metadata": {
        "id": "kTenMvFR0zAZ"
      },
      "source": [
        "3. Aceitam Elementos Repetidos"
      ]
    },
    {
      "cell_type": "code",
      "execution_count": 14,
      "metadata": {
        "id": "9C0nHjRC04dh"
      },
      "outputs": [],
      "source": [
        "numeros = [1, 2, 2, 3, 3, 3]  # Válido!"
      ]
    },
    {
      "cell_type": "markdown",
      "metadata": {
        "id": "-IG4Jg1q1bPi"
      },
      "source": [
        "## Operações Básicas com Listas\n",
        "\n",
        "**Adicionar Elementos**\n",
        "**.append()** → Adiciona ao final."
      ]
    },
    {
      "cell_type": "code",
      "execution_count": 78,
      "metadata": {
        "id": "2pgANdkV2Uyy"
      },
      "outputs": [
        {
          "name": "stdout",
          "output_type": "stream",
          "text": [
            "['maçã', 'morango', 'melão', 'uva', 'uva', 'uva', 'uva', 'uva', 'uva', 'uva', 'uva', 'uva', 'uva', 'uva', 'uva', 'uva', 'uva', 'uva', 'uva', 'uva', 'uva', 'uva', 'uva', 'uva', 'uva', 'uva', 'uva', 'uva', 'uva', 'uva', 'uva', 'uva', 'uva', 'uva', 'uva', 'uva', 'uva', 'uva', 'uva', 'uva', 'uva', 'uva', 'uva', 'uva', 'uva', 'uva', 'uva', 'uva', 'uva', 'uva', 'uva', 'uva', 'uva', 'uva', 'uva', 'uva', 'uva', 'uva', 'uva', 'uva', 'uva', 'uva', 'uva', 'uva', 'uva', 'uva', 'uva']\n"
          ]
        }
      ],
      "source": [
        "frutas.append(\"uva\") \n",
        "print(frutas)           # [\"maçã\", \"morango\", \"laranja\", \"uva\"]"
      ]
    },
    {
      "cell_type": "code",
      "execution_count": 119,
      "metadata": {},
      "outputs": [
        {
          "name": "stdout",
          "output_type": "stream",
          "text": [
            "['maçã', 'morango', 'melão', 'uva', 'uva', 'uva', 'uva', 'uva', 'uva', 'uva', 'uva', 'uva', 'uva', 'uva', 'uva', 'uva', 'uva', 'uva', 'uva', 'uva', 'uva', 'uva', 'uva', 'uva', 'uva', 'uva', 'uva', 'uva', 'uva', 'uva', 'uva', 'uva', 'uva', 'uva', 'uva', 'uva', 'uva', 'uva', 'uva', 'uva', 'uva', 'uva', 'uva', 'uva', 'uva', 'uva', 'uva', 'uva', 'uva', 'uva', 'uva', 'uva', 'uva', 'uva', 'uva', 'uva', 'uva', 'uva', 'uva', 'uva', 'uva', 'uva', 'uva', 'uva', 'uva', 'uva', 'uva', 'tangerina', 'tangerina', 'tangerina', 'tangerina', 'tangerina', 'tangerina', 'tangerina', 'tangerina', 'tangerina', 'tangerina', 'tangerina', 'tangerina', 'tangerina', 'tangerina', 'tangerina', 'tangerina', 'tangerina', 'tangerina', 'tangerina', 'tangerina', 'tangerina', 'tangerina', 'tangerina', 'tangerina', 'tangerina', 'tangerina', 'tangerina', 'tangerina', 'tangerina', 'tangerina', 'tangerina', 'tangerina', 'tangerina', 'tangerina', 'tangerina', 'tangerina', 'tangerina', 'tangerina', 'tangerina', 'tangerina', 'tangerina']\n"
          ]
        }
      ],
      "source": [
        "### Adicone mais uma fruta no fim da lista\n",
        "frutas.append(\"tangerina\")\n",
        "print(frutas)"
      ]
    },
    {
      "cell_type": "markdown",
      "metadata": {
        "id": "BxsnXd7425D6"
      },
      "source": [
        "**insert()** → **Insere em uma posição específica.**"
      ]
    },
    {
      "cell_type": "code",
      "execution_count": 124,
      "metadata": {
        "colab": {
          "base_uri": "https://localhost:8080/"
        },
        "id": "ARNHZW0f3G5B",
        "outputId": "dc5fb6c2-80a2-4887-a8ab-72c5ccef3d68"
      },
      "outputs": [
        {
          "name": "stdout",
          "output_type": "stream",
          "text": [
            "['abacaxi', 'abacaxi', 'maçã', 'abacaxi', 'uva', 'morango', 'uva', 'melão', 'uva', 'uva', 'uva', 'uva', 'uva', 'uva', 'uva', 'uva', 'uva', 'uva', 'uva', 'uva', 'uva', 'uva', 'uva', 'uva', 'uva', 'uva', 'uva', 'uva', 'uva', 'uva', 'uva', 'uva', 'uva', 'uva', 'uva', 'uva', 'uva', 'uva', 'uva', 'uva', 'uva', 'uva', 'uva', 'uva', 'uva', 'uva', 'uva', 'uva', 'uva', 'uva', 'uva', 'uva', 'uva', 'uva', 'uva', 'uva', 'uva', 'uva', 'uva', 'uva', 'uva', 'uva', 'uva', 'uva', 'uva', 'uva', 'uva', 'uva', 'uva', 'uva', 'uva', 'uva', 'tangerina', 'tangerina', 'tangerina', 'tangerina', 'tangerina', 'tangerina', 'tangerina', 'tangerina', 'tangerina', 'tangerina', 'tangerina', 'tangerina', 'tangerina', 'tangerina', 'tangerina', 'tangerina', 'tangerina', 'tangerina', 'tangerina', 'tangerina', 'tangerina', 'tangerina', 'tangerina', 'tangerina', 'tangerina', 'tangerina', 'tangerina', 'tangerina', 'tangerina', 'tangerina', 'tangerina', 'tangerina', 'tangerina', 'tangerina', 'tangerina', 'tangerina', 'tangerina', 'tangerina', 'tangerina', 'tangerina', 'tangerina']\n"
          ]
        }
      ],
      "source": [
        "frutas.insert(1, \"abacaxi\")  # [\"maçã\", \"abacaxi\", \"morango\", \"laranja\", \"uva\"]\n",
        "print(frutas)"
      ]
    },
    {
      "cell_type": "code",
      "execution_count": 125,
      "metadata": {},
      "outputs": [
        {
          "name": "stdout",
          "output_type": "stream",
          "text": [
            "['abacaxi', 'abacaxi', 'maçã', 'uva', 'abacaxi', 'uva', 'morango', 'uva', 'melão', 'uva', 'uva', 'uva', 'uva', 'uva', 'uva', 'uva', 'uva', 'uva', 'uva', 'uva', 'uva', 'uva', 'uva', 'uva', 'uva', 'uva', 'uva', 'uva', 'uva', 'uva', 'uva', 'uva', 'uva', 'uva', 'uva', 'uva', 'uva', 'uva', 'uva', 'uva', 'uva', 'uva', 'uva', 'uva', 'uva', 'uva', 'uva', 'uva', 'uva', 'uva', 'uva', 'uva', 'uva', 'uva', 'uva', 'uva', 'uva', 'uva', 'uva', 'uva', 'uva', 'uva', 'uva', 'uva', 'uva', 'uva', 'uva', 'uva', 'uva', 'uva', 'uva', 'uva', 'uva', 'tangerina', 'tangerina', 'tangerina', 'tangerina', 'tangerina', 'tangerina', 'tangerina', 'tangerina', 'tangerina', 'tangerina', 'tangerina', 'tangerina', 'tangerina', 'tangerina', 'tangerina', 'tangerina', 'tangerina', 'tangerina', 'tangerina', 'tangerina', 'tangerina', 'tangerina', 'tangerina', 'tangerina', 'tangerina', 'tangerina', 'tangerina', 'tangerina', 'tangerina', 'tangerina', 'tangerina', 'tangerina', 'tangerina', 'tangerina', 'tangerina', 'tangerina', 'tangerina', 'tangerina', 'tangerina', 'tangerina', 'tangerina']\n"
          ]
        }
      ],
      "source": [
        "# insira uma fruta, qualquer fruta na terceira posição da lista\n",
        "frutas.insert(3, \"uva\")\n",
        "print(frutas)"
      ]
    },
    {
      "cell_type": "markdown",
      "metadata": {
        "id": "qPBblqwB4tfx"
      },
      "source": [
        "Remover Elementos\n",
        "\n",
        "**remove()** → Remove o primeiro valor igual ao especificado."
      ]
    },
    {
      "cell_type": "code",
      "execution_count": 228,
      "metadata": {
        "id": "vWRSJFnR5InJ"
      },
      "outputs": [
        {
          "name": "stdout",
          "output_type": "stream",
          "text": [
            "['abacaxi', 'abacaxi', 'maçã', 'abacaxi', 'morango', 'melão', 'tangerina', 'tangerina', 'tangerina', 'tangerina', 'tangerina', 'tangerina', 'tangerina']\n"
          ]
        }
      ],
      "source": [
        "frutas.remove(\"tangerina\")  # Remove \"morango\"\n",
        "print(frutas) "
      ]
    },
    {
      "cell_type": "code",
      "execution_count": 203,
      "metadata": {},
      "outputs": [],
      "source": [
        "# remova o abacaxi da sua lista"
      ]
    },
    {
      "cell_type": "markdown",
      "metadata": {
        "id": "qjVP3pkQ5E8p"
      },
      "source": [
        "**pop() →** Remove e retorna um elemento pelo índice (se não passar índice, remove o último)."
      ]
    },
    {
      "cell_type": "code",
      "execution_count": 236,
      "metadata": {
        "id": "8HhvK9xA5YRB"
      },
      "outputs": [
        {
          "name": "stdout",
          "output_type": "stream",
          "text": [
            "melão\n"
          ]
        }
      ],
      "source": [
        "ultima_fruta = frutas.pop()  # Remove \"uva\" e retorna seu valor\n",
        "print(ultima_fruta)"
      ]
    },
    {
      "cell_type": "code",
      "execution_count": null,
      "metadata": {},
      "outputs": [],
      "source": [
        "### vamos criar uma lista só de quem foi excluidos.\n",
        "\n"
      ]
    },
    {
      "attachments": {
        "image.png": {
          "image/png": "[encoded data removed]"
        }
      },
      "cell_type": "markdown",
      "metadata": {},
      "source": [
        "### O Comando del em Listas (Python)\n",
        "\n",
        "O del é um comando do Python usado para remover um elemento de uma lista pelo seu índice (posição). Ele também pode ser usado para apagar a lista inteira ou até mesmo variáveis.\n",
        "\n",
        "![image.png](attachment:image.png)"
      ]
    },
    {
      "cell_type": "markdown",
      "metadata": {},
      "source": [
        "1. Removendo um item pelo índice"
      ]
    },
    {
      "cell_type": "code",
      "execution_count": 240,
      "metadata": {},
      "outputs": [
        {
          "name": "stdout",
          "output_type": "stream",
          "text": [
            "['Flamengo', 'Corinthians', 'São Paulo']\n"
          ]
        }
      ],
      "source": [
        "times = [\"Flamengo\", \"Palmeiras\", \"Corinthians\", \"São Paulo\"]\n",
        "del times[1]  # Remove \"Palmeiras\" (índice 1)\n",
        "print(times)  # Saída: ['Flamengo', 'Corinthians', 'São Paulo']"
      ]
    },
    {
      "cell_type": "code",
      "execution_count": 241,
      "metadata": {},
      "outputs": [
        {
          "name": "stdout",
          "output_type": "stream",
          "text": [
            "['Flamengo', 'São Paulo']\n"
          ]
        }
      ],
      "source": [
        "del times[1]\n",
        "print(times)"
      ]
    },
    {
      "cell_type": "markdown",
      "metadata": {},
      "source": [
        "2. Removendo um intervalo (slicing)"
      ]
    },
    {
      "cell_type": "code",
      "execution_count": 242,
      "metadata": {},
      "outputs": [
        {
          "name": "stdout",
          "output_type": "stream",
          "text": [
            "[10, 40, 50]\n"
          ]
        }
      ],
      "source": [
        "numeros = [10, 20, 30, 40, 50]\n",
        "del numeros[1:3]  # Remove os índices 1 e 2 (20 e 30)\n",
        "print(numeros)    # Saída: [10, 40, 50]"
      ]
    },
    {
      "cell_type": "markdown",
      "metadata": {},
      "source": [
        "3. Apagando a lista inteira"
      ]
    },
    {
      "cell_type": "code",
      "execution_count": 245,
      "metadata": {},
      "outputs": [],
      "source": [
        "frutas = [\"maçã\", \"banana\", \"laranja\"]\n",
        "del frutas  # Apaga a lista completamente\n",
        "# print(frutas) → Erro! A lista não existe mais."
      ]
    },
    {
      "cell_type": "markdown",
      "metadata": {},
      "source": [
        "4. Comparação com remove() e pop()"
      ]
    },
    {
      "cell_type": "code",
      "execution_count": 246,
      "metadata": {},
      "outputs": [
        {
          "name": "stdout",
          "output_type": "stream",
          "text": [
            "['b', 'c', 'd']\n",
            "['b', 'd']\n",
            "b\n",
            "['d']\n"
          ]
        }
      ],
      "source": [
        "letras = [\"a\", \"b\", \"c\", \"d\"]\n",
        "\n",
        "# Usando del\n",
        "del letras[0]  # Remove 'a' (índice 0)\n",
        "print(letras)  # Saída: ['b', 'c', 'd']\n",
        "\n",
        "# Usando remove()\n",
        "letras.remove(\"c\")  # Remove pelo valor 'c'\n",
        "print(letras)       # Saída: ['b', 'd']\n",
        "\n",
        "# Usando pop()\n",
        "item_removido = letras.pop(0)  # Remove e retorna 'b'\n",
        "print(item_removido)            # Saída: 'b'\n",
        "print(letras)                   # Saída: ['d']"
      ]
    },
    {
      "cell_type": "markdown",
      "metadata": {},
      "source": [
        "Quando Usar del?\n",
        "\n",
        "    Quando você sabe o índice do elemento a ser removido.\n",
        "\n",
        "    Quando quer apagar um intervalo de elementos (slicing).\n",
        "\n",
        "    Quando precisa apagar a lista inteira (liberar memória)."
      ]
    },
    {
      "cell_type": "markdown",
      "metadata": {},
      "source": [
        "Exercício:\n",
        "\n",
        "\n",
        "Crie uma lista paises = [\"Brasil\", \"EUA\", \"Japão\", \"França\"] e use del para:\n",
        "\n",
        "Remover \"EUA\".\n",
        "\n",
        "Apagar os dois primeiros elementos.\n",
        "\n",
        "Tentar imprimir a lista depois de deletá-la."
      ]
    },
    {
      "cell_type": "code",
      "execution_count": 256,
      "metadata": {},
      "outputs": [
        {
          "name": "stdout",
          "output_type": "stream",
          "text": [
            "['frança']\n"
          ]
        }
      ],
      "source": [
        "minha_lista = [\"Brasil\" , \"EUA\" , \"Japão\" , \"frança\"]\n",
        "del minha_lista[1]\n",
        "del minha_lista[0]\n",
        "del minha_lista[0]\n",
        "print(minha_lista)"
      ]
    },
    {
      "attachments": {
        "image.png": {
          "image/png": "[encoded data removed]"
        }
      },
      "cell_type": "markdown",
      "metadata": {
        "id": "6MfonG2p5hWJ"
      },
      "source": [
        "### Outras Operações Úteis\n",
        "\n",
        "![image.png](attachment:image.png)"
      ]
    },
    {
      "cell_type": "markdown",
      "metadata": {
        "id": "cqu9hv0G58rB"
      },
      "source": [
        "**len() →** Retorna o tamanho da lista."
      ]
    },
    {
      "cell_type": "code",
      "execution_count": 258,
      "metadata": {
        "id": "d90rR_rY6Fl4"
      },
      "outputs": [
        {
          "name": "stdout",
          "output_type": "stream",
          "text": [
            "3\n"
          ]
        }
      ],
      "source": [
        "frutas = [\"maça\", \"uva\", \"banana\"]\n",
        "print(len(frutas)) "
      ]
    },
    {
      "cell_type": "markdown",
      "metadata": {
        "id": "z5zOelWs6LcJ"
      },
      "source": [
        "**sort() →** Ordena a lista (para números ou textos)."
      ]
    },
    {
      "cell_type": "code",
      "execution_count": 259,
      "metadata": {
        "id": "CVCn5AwvAeeq"
      },
      "outputs": [],
      "source": [
        "numeros = [3, 1, 4, 2]\n",
        "numeros.sort()  # [1, 2, 3, 4]"
      ]
    },
    {
      "cell_type": "markdown",
      "metadata": {},
      "source": [
        "**reverse() →** inverte a ordem da lista."
      ]
    },
    {
      "cell_type": "code",
      "execution_count": null,
      "metadata": {},
      "outputs": [],
      "source": [
        "numeros = [1 ,2, 3, 4, 5, 6]\n",
        "numeros.reverse()"
      ]
    },
    {
      "cell_type": "markdown",
      "metadata": {},
      "source": [
        "**count() →** Conta ocorrências de um valor."
      ]
    },
    {
      "cell_type": "code",
      "execution_count": 1,
      "metadata": {},
      "outputs": [
        {
          "name": "stdout",
          "output_type": "stream",
          "text": [
            "2\n"
          ]
        }
      ],
      "source": [
        "nomes = [\"Mateus\", \"Julia\", \"João\", \"Maria\", \"Mateus\", \"Johnny\", ]\n",
        "print(nomes.count(\"Mateus\"))"
      ]
    },
    {
      "cell_type": "code",
      "execution_count": null,
      "metadata": {},
      "outputs": [],
      "source": [
        "### descubra quantas vezes a palavra python aparece na lista abaixo\n",
        "nomes = [\n",
        "    \"Ana\", \"Lucas\", \"Maria\", \"Pedro\", \"Julia\",\n",
        "    \"Python\", \"Carlos\", \"Fernanda\", \"Python\", \"Rafael\",\n",
        "    \"Mariana\", \"Gustavo\", \"Beatriz\", \"Python\", \"Daniel\",\n",
        "    \"Amanda\", \"Rodrigo\", \"Python\", \"Patricia\", \"Felipe\",\n",
        "    \"Isabela\", \"Python\", \"Thiago\", \"Camila\", \"Python\",\n",
        "    \"Vinicius\", \"Laura\", \"Python\", \"Eduardo\", \"Carolina\",\n",
        "    \"Marcos\", \"Python\", \"Larissa\", \"Roberto\", \"Python\",\n",
        "    \"Gabriel\", \"Tatiana\", \"Python\", \"Andre\", \"Python\",\n",
        "    \"Claudia\", \"Python\", \"Bruno\", \"Python\", \"Renata\",\n",
        "    \"Python\", \"Diego\", \"Python\", \"Aline\", \"Python\"\n",
        "]\n"
      ]
    },
    {
      "cell_type": "markdown",
      "metadata": {
        "id": "51Ob5GXaBhj6"
      },
      "source": [
        "\n",
        "### Fatiamento (Slicing) → Pegando Partes da Lista\n",
        "\n",
        "Podemos extrair \"pedaços\" da lista usando **[início:fim:passo]:**"
      ]
    },
    {
      "cell_type": "code",
      "execution_count": null,
      "metadata": {
        "id": "LqUmdwA8Cwuj"
      },
      "outputs": [],
      "source": [
        "letras = [\"a\", \"b\", \"c\", \"d\", \"e\"]\n",
        "print(letras[1:4])    # [\"b\", \"c\", \"d\"] (índices 1 a 3)\n",
        "print(letras[::2])    # [\"a\", \"c\", \"e\"] (pula de 2 em 2)\n",
        "print(letras[::-1])   # [\"e\", \"d\", \"c\", \"b\", \"a\"] (inverte)"
      ]
    },
    {
      "cell_type": "markdown",
      "metadata": {},
      "source": [
        "Os elementos de uma lista são acessados por índices (posições), começando em 0.\n"
      ]
    },
    {
      "cell_type": "code",
      "execution_count": null,
      "metadata": {},
      "outputs": [],
      "source": [
        "jogos = [\"FIFA\", \"Minecraft\", \"Fortnite\", \"Valorant\"]\n",
        "print(jogos[0])   # Saída: FIFA (primeiro elemento)\n",
        "print(jogos[2])   # Saída: Fortnite (terceiro elemento)\n",
        "print(jogos[-1])  # Saída: Valorant (último elemento)"
      ]
    },
    {
      "cell_type": "markdown",
      "metadata": {
        "id": "JLohvFDkmDMM"
      },
      "source": [
        "### Exercicio de Listas \n"
      ]
    },
    {
      "cell_type": "markdown",
      "metadata": {
        "id": "DJfQTR3mmi6M"
      },
      "source": [
        "Nossa Lista de Números.\n"
      ]
    },
    {
      "cell_type": "code",
      "execution_count": 4,
      "metadata": {
        "colab": {
          "base_uri": "https://localhost:8080/"
        },
        "id": "tKIOWp3jmLrU",
        "outputId": "1f03f820-7640-41e3-c8f4-d44eac892d30"
      },
      "outputs": [
        {
          "name": "stdout",
          "output_type": "stream",
          "text": [
            "[1, 2, 3, 4, 5]\n"
          ]
        }
      ],
      "source": [
        "lista_numeros = [1, 2, 3, 4, 5]\n",
        "print(lista_numeros)"
      ]
    },
    {
      "cell_type": "markdown",
      "metadata": {
        "id": "z4vyZPxfm1V8"
      },
      "source": [
        "Etapa 1: Escreva uma linha de código que solicita ao usuário digitar um número inteiro, esse número deve substituir o elemento do meio da lista."
      ]
    },
    {
      "cell_type": "code",
      "execution_count": 7,
      "metadata": {
        "colab": {
          "base_uri": "https://localhost:8080/"
        },
        "id": "vFxyMxy8nHJV",
        "outputId": "bd7d2ed8-ddbb-4e3c-a286-28eed4f86526"
      },
      "outputs": [
        {
          "name": "stdout",
          "output_type": "stream",
          "text": [
            "[1, 2, 35, 4, 5]\n"
          ]
        }
      ],
      "source": [
        "novo_elemento = int(input(\"Informe um número inteiro: \"))\n",
        "lista_numeros[2]= novo_elemento\n",
        "print(lista_numeros)\n"
      ]
    },
    {
      "cell_type": "markdown",
      "metadata": {
        "id": "sNbDzVJCzYl6"
      },
      "source": [
        "Etapa 2: escreva uma linha de código que remova o último elemento da lista.\n"
      ]
    },
    {
      "cell_type": "code",
      "execution_count": 8,
      "metadata": {
        "colab": {
          "base_uri": "https://localhost:8080/"
        },
        "id": "OtpGjhMFzjxh",
        "outputId": "ba3e7816-f167-4efe-98bb-e43ff29c12ae"
      },
      "outputs": [
        {
          "name": "stdout",
          "output_type": "stream",
          "text": [
            "[1, 2, 35, 4]\n"
          ]
        }
      ],
      "source": [
        "del lista_numeros[-1]\n",
        "print(lista_numeros)"
      ]
    },
    {
      "cell_type": "markdown",
      "metadata": {
        "id": "cfCy91RZz2kD"
      },
      "source": [
        "Etapa 3: escreva uma linha de código que imprima o comprimento da lista atual\n"
      ]
    },
    {
      "cell_type": "code",
      "execution_count": null,
      "metadata": {
        "id": "ZSIUpj7Uz4HD"
      },
      "outputs": [],
      "source": []
    },
    {
      "cell_type": "markdown",
      "metadata": {},
      "source": [
        "### **Exercício 2**: \n",
        "\n",
        "Crie uma lista com 5 jogos favoritos e imprima o terceiro jogo."
      ]
    },
    {
      "cell_type": "code",
      "execution_count": null,
      "metadata": {},
      "outputs": [],
      "source": []
    },
    {
      "cell_type": "markdown",
      "metadata": {},
      "source": [
        "### **Exercício 3**:\n",
        "\n",
        "Com a lista [3, 7, 1, 9, 2], ordene-a e depois inverta sua ordem."
      ]
    },
    {
      "cell_type": "code",
      "execution_count": 2,
      "metadata": {},
      "outputs": [],
      "source": [
        "lista = [3, 7, 1, 9, 2]"
      ]
    },
    {
      "cell_type": "markdown",
      "metadata": {
        "id": "Q_EeSrKl0LFt"
      },
      "source": [
        "# Exercício de Listas Beatles:\n",
        "\n",
        "Os Beatles foram um dos grupos de música mais populares dos anos 60, e a banda mais vendida na história. Algumas pessoas consideram que eles são o ato mais influente da era do rock. Na verdade, eles foram incluídos na compilação da revista *Time* das 100 pessoas mais influentes do século XX.\n",
        "\n",
        "A banda passou por muitas mudanças na formação, culminando em 1962 com a formação de John Lennon, Paul McCartney, George Harrison e Richard Starkey (mais conhecido como Ringo Starr).\n",
        "\n",
        "Escreva um programa que reflita essas mudanças e permita praticar com o conceito de listas. Sua tarefa:"
      ]
    },
    {
      "cell_type": "markdown",
      "metadata": {
        "id": "zEQa-a0I1Fmy"
      },
      "source": [
        "Etapa 1: Criar uma lista vazia chamada beatles;\n"
      ]
    },
    {
      "cell_type": "code",
      "execution_count": 9,
      "metadata": {
        "colab": {
          "base_uri": "https://localhost:8080/"
        },
        "id": "bETJ56YE1J0R",
        "outputId": "862f5572-8808-4b45-98af-e9fd94fc13fd"
      },
      "outputs": [
        {
          "name": "stdout",
          "output_type": "stream",
          "text": [
            "[]\n"
          ]
        }
      ],
      "source": [
        "beatles = []\n",
        "print(beatles)"
      ]
    },
    {
      "cell_type": "markdown",
      "metadata": {
        "id": "C47eNgmw1KoZ"
      },
      "source": [
        "Etapa 2: use o método append() para adicionar os seguintes membros da banda à lista: John Lennon, Paul McCartney e George Harrison;"
      ]
    },
    {
      "cell_type": "code",
      "execution_count": 10,
      "metadata": {
        "colab": {
          "base_uri": "https://localhost:8080/"
        },
        "id": "95yysbR51Opy",
        "outputId": "1f10dc36-bdbb-49e0-b6d4-9c4b6f686256"
      },
      "outputs": [
        {
          "name": "stdout",
          "output_type": "stream",
          "text": [
            "['NEMAMAR JUNIOR', 'MESSI', 'CRISTIANO RONALDO']\n"
          ]
        }
      ],
      "source": [
        "beatles.append(\"NEMAMAR JUNIOR\")\n",
        "beatles.append(\"MESSI\")\n",
        "beatles.append(\"CRISTIANO RONALDO\")\n",
        "print(beatles)"
      ]
    },
    {
      "cell_type": "markdown",
      "metadata": {
        "id": "lv62tChs1jw8"
      },
      "source": [
        "Etapa 3: Use o loop for e o método append() para solicitar que o usuário adicione os seguintes membros da banda à lista: Stu Sutcliffe e Pete Best;"
      ]
    },
    {
      "cell_type": "code",
      "execution_count": 14,
      "metadata": {
        "colab": {
          "base_uri": "https://localhost:8080/"
        },
        "id": "2IDuD6uJ1nRE",
        "outputId": "f7474ca2-5e0a-42bd-9009-cdeed1663802"
      },
      "outputs": [
        {
          "name": "stdout",
          "output_type": "stream",
          "text": [
            "['NEMAMAR JUNIOR', 'MESSI', 'CRISTIANO RONALDO', 'MATheus', 'eu']\n"
          ]
        }
      ],
      "source": [
        "for integrantes in range(2):\n",
        "    integrantes = input(\"digite o nome dos integrantes\")\n",
        "    beatles.append(integrantes)\n",
        "\n",
        "print(beatles)"
      ]
    },
    {
      "cell_type": "markdown",
      "metadata": {
        "id": "V8Zm8zFl1y91"
      },
      "source": [
        "Etapa 4: Use a instrução del para remover Stu Sutcliffe e Pete Best da lista;"
      ]
    },
    {
      "cell_type": "code",
      "execution_count": 15,
      "metadata": {
        "colab": {
          "base_uri": "https://localhost:8080/"
        },
        "id": "18fO8IUq13tl",
        "outputId": "65a247e6-1888-4f92-8057-82fc85d62a76"
      },
      "outputs": [
        {
          "name": "stdout",
          "output_type": "stream",
          "text": [
            "['NEMAMAR JUNIOR', 'MESSI', 'MATheus']\n"
          ]
        }
      ],
      "source": [
        "del beatles [-1]\n",
        "del beatles [-2]\n",
        "print(beatles)"
      ]
    },
    {
      "cell_type": "markdown",
      "metadata": {
        "id": "LHdtrWdy19Ge"
      },
      "source": [
        "Etapa 5: Use o método insert() para adicionar Ringo Starr ao início da lista.\n"
      ]
    },
    {
      "cell_type": "markdown",
      "metadata": {
        "colab": {
          "base_uri": "https://localhost:8080/"
        },
        "id": "OZdMmuqq1-dG",
        "outputId": "9e809bb1-3bf2-44c5-cb04-5493b0e86d30"
      },
      "source": [
        "### PlAYLIST"
      ]
    },
    {
      "cell_type": "code",
      "execution_count": 16,
      "metadata": {},
      "outputs": [
        {
          "name": "stdout",
          "output_type": "stream",
          "text": [
            "[]\n"
          ]
        }
      ],
      "source": [
        "playlist = []\n",
        "print(playlist)"
      ]
    },
    {
      "cell_type": "code",
      "execution_count": 17,
      "metadata": {},
      "outputs": [
        {
          "name": "stdout",
          "output_type": "stream",
          "text": [
            "['louco e sonhador', 'inevitavel', 'vem ca']\n"
          ]
        }
      ],
      "source": [
        "for musicas in range(3):\n",
        "    musicas = input(\"digite suas musicas favoritas\")\n",
        "    playlist.append(musicas)\n",
        "\n",
        "print(playlist)\n"
      ]
    }
  ],
  "metadata": {
    "colab": {
      "collapsed_sections": [
        "3-10nKaJicf0"
      ],
      "provenance": []
    },
    "kernelspec": {
      "display_name": "Python 3",
      "name": "python3"
    },
    "language_info": {
      "codemirror_mode": {
        "name": "ipython",
        "version": 3
      },
      "file_extension": ".py",
      "mimetype": "text/x-python",
      "name": "python",
      "nbconvert_exporter": "python",
      "pygments_lexer": "ipython3",
      "version": "3.13.2"
    }
  },
  "nbformat": 4,
  "nbformat_minor": 0
}
