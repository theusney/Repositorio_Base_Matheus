{
 "cells": [
  {
   "cell_type": "markdown",
   "id": "6728fe80",
   "metadata": {},
   "source": [
    "### idade"
   ]
  },
  {
   "cell_type": "code",
   "execution_count": 14,
   "id": "051f32b1",
   "metadata": {},
   "outputs": [
    {
     "name": "stdout",
     "output_type": "stream",
     "text": [
      "Adulto\n"
     ]
    }
   ],
   "source": [
    "usuario_idade = int(input(\"digite a sua idade\"))\n",
    "\n",
    "if usuario_idade == 18 : \n",
    "    print(f\"Maior de idade\")\n",
    "\n",
    "elif usuario_idade > 18 and usuario_idade < 60:\n",
    "    print(f\"Adulto\")\n",
    "elif usuario_idade > 60 :\n",
    "    print(\"Idoso\")\n",
    "\n",
    "else:\n",
    "    print(\"Menor de idade\")\n"
   ]
  },
  {
   "cell_type": "markdown",
   "id": "16d109c6",
   "metadata": {},
   "source": [
    "### Calcula media "
   ]
  },
  {
   "cell_type": "code",
   "execution_count": 45,
   "id": "d7ee45d3",
   "metadata": {},
   "outputs": [
    {
     "name": "stdout",
     "output_type": "stream",
     "text": [
      "Reprovado\n"
     ]
    }
   ],
   "source": [
    "nota_1 = float(input(\"Digite sua nota\"))\n",
    "nota_2 = float(input(\"Digite sua nota\"))\n",
    "nota_3 = float(input(\"Digite sua nota\"))\n",
    "\n",
    "media = (nota_1 + nota_2 + nota_3) /3\n",
    "\n",
    "\n",
    "if media >= 5 and media <= 10 :\n",
    "    print(\"aprovado\")\n",
    "\n",
    "elif media < 5 and media >= 4 :\n",
    "    print(\"Recuperação\")\n",
    "\n",
    "elif media < 4 and media >= 3 :\n",
    "    print(\"reprovado\")\n",
    "\n",
    "else:\n",
    "    print(\"Reprovado\")\n",
    "\n",
    "\n",
    "\n",
    "\n"
   ]
  },
  {
   "cell_type": "markdown",
   "id": "b0fcad3d",
   "metadata": {},
   "source": [
    "### CALCULADORA\n"
   ]
  },
  {
   "cell_type": "code",
   "execution_count": 55,
   "id": "e1abcc52",
   "metadata": {},
   "outputs": [
    {
     "name": "stdout",
     "output_type": "stream",
     "text": [
      "40\n"
     ]
    }
   ],
   "source": [
    "numero_1 = int(input(\"Digite um numero\"))\n",
    "numero_2 = int(input(\"Digite um numero\"))\n",
    "soma = input(\"qual soma voce quer?\")\n",
    "\n",
    "if soma ==  \"*\" and \"multiplicação\":\n",
    "    somar = numero_1 * numero_2\n",
    "    print(somar)\n",
    "\n",
    "elif soma == \"-\" and \"subtração\":\n",
    "    somar = numero_1 - numero_2\n",
    "    print(somar)\n",
    "elif soma == \"/\" and \"Divisão\":\n",
    "    somar = numero_1 / numero_2\n",
    "    print(somar)\n",
    "elif soma == \"+\" and \"adição\":\n",
    "    somar = numero_1 + numero_2\n",
    "    print(somar)\n",
    "else:\n",
    "    print(\"erro\")"
   ]
  }
 ],
 "metadata": {
  "kernelspec": {
   "display_name": "Python 3",
   "language": "python",
   "name": "python3"
  },
  "language_info": {
   "codemirror_mode": {
    "name": "ipython",
    "version": 3
   },
   "file_extension": ".py",
   "mimetype": "text/x-python",
   "name": "python",
   "nbconvert_exporter": "python",
   "pygments_lexer": "ipython3",
   "version": "3.13.2"
  }
 },
 "nbformat": 4,
 "nbformat_minor": 5
}
