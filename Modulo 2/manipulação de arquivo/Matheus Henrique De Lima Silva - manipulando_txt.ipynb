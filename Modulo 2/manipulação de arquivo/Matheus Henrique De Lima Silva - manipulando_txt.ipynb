{
  "cells": [
    {
      "cell_type": "markdown",
      "id": "622586b0",
      "metadata": {
        "id": "622586b0"
      },
      "source": [
        "# Lendo um txt"
      ]
    },
    {
      "cell_type": "markdown",
      "id": "e95d5af8",
      "metadata": {
        "id": "e95d5af8"
      },
      "source": [
        "Em Python, usamos a função open() para abrir arquivos:"
      ]
    },
    {
      "cell_type": "code",
      "execution_count": null,
      "id": "73588327",
      "metadata": {
        "id": "73588327"
      },
      "outputs": [
        {
          "name": "stdout",
          "output_type": "stream",
          "text": [
            "<_io.TextIOWrapper name='hello_world.txt' mode='r' encoding='cp1252'>\n"
          ]
        }
      ],
      "source": [
        "##arquivo = open('exemplo.txt', 'modo')\n",
        "arquivo = open('hello_world.txt', 'r')                           # estou abrindo um arquivo\n",
        "print(arquivo)\n",
        "\n"
      ]
    },
    {
      "cell_type": "markdown",
      "id": "9efdabae",
      "metadata": {
        "id": "9efdabae"
      },
      "source": [
        "Os modos são:\n",
        "- 'r' – leitura (read)\n",
        "\n",
        "- 'w' – escrita (write, sobrescreve)\n",
        "\n",
        "- 'a' – escrita (append, adiciona ao final)\n",
        "\n",
        "- 'x' – escrita (cria um novo arquivo, erro se já existir)\n",
        "\n",
        "- 'b' – modo binário\n",
        "\n",
        "- 't' – modo texto (padrão)"
      ]
    },
    {
      "cell_type": "markdown",
      "id": "5485b94a",
      "metadata": {
        "id": "5485b94a"
      },
      "source": [
        "# Lendo um arquivo linha por linha"
      ]
    },
    {
      "cell_type": "code",
      "execution_count": null,
      "id": "20e09ee7",
      "metadata": {
        "id": "20e09ee7"
      },
      "outputs": [
        {
          "name": "stdout",
          "output_type": "stream",
          "text": [
            "olÃ¡ Garotos e Garotas de programa\n",
            "\n",
            "Bora fazer um cÃ³digoðŸ˜’\n"
          ]
        }
      ],
      "source": [
        "# Lê linha por linha\n",
        "with open('hello_world.txt', 'r') as arquivo:\n",
        "    for linha in arquivo:                                     #ele nao pega acento aqui, mais na hora ele vai com acento\n",
        "        print(linha)"
      ]
    },
    {
      "cell_type": "markdown",
      "id": "69b462fa",
      "metadata": {
        "id": "69b462fa"
      },
      "source": [
        "O objeto _io.TextIOWrapper é a classe que representa arquivos abertos em modo texto em Python. Sempre que você abre um arquivo usando open() com modo como 'r', 'w', 'a' (ou seja, sem o modo binário 'b'), o que você recebe é uma instância de _io.TextIOWrapper."
      ]
    },
    {
      "cell_type": "code",
      "execution_count": 29,
      "id": "50f5a4a1",
      "metadata": {
        "id": "50f5a4a1"
      },
      "outputs": [
        {
          "data": {
            "text/plain": [
              "_io.TextIOWrapper"
            ]
          },
          "execution_count": 29,
          "metadata": {},
          "output_type": "execute_result"
        }
      ],
      "source": [
        "type(arquivo)"
      ]
    },
    {
      "cell_type": "markdown",
      "id": "a74c37ef",
      "metadata": {
        "id": "a74c37ef"
      },
      "source": [
        "# Alguns métodos do objeto _io.TextIOWrapper"
      ]
    },
    {
      "cell_type": "markdown",
      "id": "786c4600",
      "metadata": {
        "id": "786c4600"
      },
      "source": [
        "| Método                        | Descrição                                             | Exemplo de uso                           |\n",
        "| ----------------------------- | ----------------------------------------------------- | ---------------------------------------- |\n",
        "| `read(size=-1)`               | Lê até `size` caracteres do arquivo; lê tudo se `-1`. | `conteudo = f.read(100)`                 |\n",
        "| `readlines()`                 | Lê todas as linhas e retorna uma lista de strings.    | `linhas = f.readlines()`                 |\n",
        "| `write(string)`               | Escreve uma string no arquivo.                        | `f.write(\"texto\\n\")`                     |\n",
        "| `writelines(list_of_strings)` | Escreve uma lista de strings no arquivo.              | `f.writelines(['linha1\\n', 'linha2\\n'])` |\n",
        "| `close()`                     | Fecha o arquivo. Após isso, não pode ser usado.       | `f.close()`                              |\n",
        "\n"
      ]
    },
    {
      "cell_type": "markdown",
      "id": "c5b35f6f",
      "metadata": {
        "id": "c5b35f6f"
      },
      "source": [
        "# Lendo o arquivo inteiro usando o método .read()"
      ]
    },
    {
      "cell_type": "code",
      "execution_count": 30,
      "id": "c633c7c2",
      "metadata": {
        "id": "c633c7c2"
      },
      "outputs": [
        {
          "name": "stdout",
          "output_type": "stream",
          "text": [
            "olÃ¡ Garotos e Garotas de programa\n",
            "Bora fazer um cÃ³digoðŸ˜’\n"
          ]
        }
      ],
      "source": [
        "# Lê todo o conteúdo\n",
        "with open('hello_world.txt', 'r') as f:\n",
        "    conteudo = f.read()\n",
        "    print(conteudo)"
      ]
    },
    {
      "cell_type": "code",
      "execution_count": 31,
      "id": "5cf3a056",
      "metadata": {
        "id": "5cf3a056"
      },
      "outputs": [],
      "source": [
        "# Sobrescreve o conteúdo (ou cria o arquivo)\n",
        "with open('exemplo.txt', 'w') as f:\n",
        "    f.write(\"Primeira linha\\n\")\n",
        "    f.write(\"Segunda linha\\n\")\n"
      ]
    },
    {
      "cell_type": "code",
      "execution_count": 32,
      "id": "d16e04ee",
      "metadata": {
        "id": "d16e04ee"
      },
      "outputs": [],
      "source": [
        "# Adiciona conteúdo ao final\n",
        "with open('exemplo.txt', 'a') as f:\n",
        "    f.write(\"Mais uma linha\\n\")\n"
      ]
    },
    {
      "cell_type": "markdown",
      "id": "273cddc0",
      "metadata": {
        "id": "273cddc0"
      },
      "source": [
        "# Lendo o arquivo como uma lista de linhas\n"
      ]
    },
    {
      "cell_type": "code",
      "execution_count": 33,
      "id": "24aedeca",
      "metadata": {
        "id": "24aedeca"
      },
      "outputs": [
        {
          "name": "stdout",
          "output_type": "stream",
          "text": [
            "['olÃ¡ Garotos e Garotas de programa\\n', 'Bora fazer um cÃ³digoðŸ˜’']\n",
            "olÃ¡ Garotos e Garotas de programa\n",
            "\n"
          ]
        }
      ],
      "source": [
        "with open('hello_world.txt', 'r') as f:\n",
        "    conteudo = f.readlines()\n",
        "    print(conteudo)\n",
        "    print(conteudo[0])"
      ]
    },
    {
      "cell_type": "markdown",
      "id": "c923ce3d",
      "metadata": {
        "id": "c923ce3d"
      },
      "source": [
        "# ✅ Dica Importante\n",
        "- Sempre use with open(...) as f: — isso garante que o arquivo será fechado corretamente, mesmo em caso de erro."
      ]
    },
    {
      "cell_type": "markdown",
      "id": "eba67714",
      "metadata": {
        "id": "eba67714"
      },
      "source": [
        "# Exercícios"
      ]
    },
    {
      "cell_type": "markdown",
      "id": "7d35cea8",
      "metadata": {
        "id": "7d35cea8"
      },
      "source": [
        "1 - Crie um arquivo chamado notas.txt e escreva três linhas com nomes de alunos e suas respectivas notas, por exemplo: Ana, 8.5; Bruno, 7.0; Carla, 9.2."
      ]
    },
    {
      "cell_type": "code",
      "execution_count": 83,
      "id": "310fa7fd",
      "metadata": {
        "id": "310fa7fd"
      },
      "outputs": [
        {
          "name": "stdout",
          "output_type": "stream",
          "text": [
            "<_io.TextIOWrapper name='notas.txt' mode='r' encoding='cp1252'>\n"
          ]
        }
      ],
      "source": [
        "arquivo = open('notas.txt', 'r')                           # estou abrindo um arquivo\n",
        "print(arquivo)"
      ]
    },
    {
      "cell_type": "markdown",
      "id": "842961aa",
      "metadata": {
        "id": "842961aa"
      },
      "source": [
        "2 - Abra o arquivo notas.txt, leia e mostre todo o seu conteúdo"
      ]
    },
    {
      "cell_type": "code",
      "execution_count": 1,
      "id": "77308e0a",
      "metadata": {
        "id": "77308e0a"
      },
      "outputs": [
        {
          "name": "stdout",
          "output_type": "stream",
          "text": [
            "Matheus;10\n",
            "Ana ;10\n",
            "\n"
          ]
        }
      ],
      "source": [
        "with open('notas.txt', 'r') as f:\n",
        "    conteudo = f.read()\n",
        "    print(conteudo)"
      ]
    },
    {
      "cell_type": "code",
      "execution_count": null,
      "id": "d7e8b710",
      "metadata": {
        "id": "d7e8b710"
      },
      "outputs": [],
      "source": []
    },
    {
      "cell_type": "markdown",
      "id": "6933cd02",
      "metadata": {
        "id": "6933cd02"
      },
      "source": [
        "3- Abra o arquivo novamente e leia linha por linha, contando quantos alunos estão listados, e imprima essa quantidade."
      ]
    },
    {
      "cell_type": "code",
      "execution_count": 2,
      "id": "19551333",
      "metadata": {
        "id": "19551333"
      },
      "outputs": [
        {
          "name": "stdout",
          "output_type": "stream",
          "text": [
            "Matheus;10\n",
            "\n",
            "Ana ;10\n",
            "\n"
          ]
        }
      ],
      "source": [
        "with open('notas.txt', 'r') as arquivo:\n",
        "    for linha in arquivo:                                     #ele nao pega acento aqui, mais na hora ele vai com acento\n",
        "        print(linha)"
      ]
    },
    {
      "cell_type": "code",
      "execution_count": 86,
      "id": "5b0d07f9",
      "metadata": {
        "id": "5b0d07f9"
      },
      "outputs": [
        {
          "name": "stdout",
          "output_type": "stream",
          "text": [
            "['Matheus;10Ana ; 10']\n"
          ]
        }
      ],
      "source": [
        "with open('notas.txt', 'r') as arquivo:\n",
        "    lista = arquivo.readlines()\n",
        "    print(lista)\n",
        "  "
      ]
    },
    {
      "cell_type": "code",
      "execution_count": null,
      "id": "c1bf5bf9",
      "metadata": {},
      "outputs": [
        {
          "name": "stdout",
          "output_type": "stream",
          "text": [
            "['Juliana, 10\\n', 'Henry, 10\\n', 'mavie, 10\\n']\n"
          ]
        }
      ],
      "source": []
    },
    {
      "cell_type": "markdown",
      "id": "8caa5bdd",
      "metadata": {
        "id": "8caa5bdd"
      },
      "source": [
        "4 - Abra o arquivo em modo de adição (append) e acrescente a linha: Daniel, 6.8."
      ]
    },
    {
      "cell_type": "code",
      "execution_count": 4,
      "id": "42af4a02",
      "metadata": {
        "id": "42af4a02"
      },
      "outputs": [],
      "source": [
        "with open('notas.txt', 'a') as f:\n",
        "    f.writelines(\"\\n Daniel;6.8\\n\")\n"
      ]
    },
    {
      "cell_type": "markdown",
      "id": "ebad1150",
      "metadata": {
        "id": "ebad1150"
      },
      "source": [
        "5 - Abra o arquivo, leia cada linha para extrair as notas numéricas e calcule a média dessas notas, imprimindo o resultado."
      ]
    },
    {
      "cell_type": "code",
      "execution_count": 88,
      "id": "debf497a",
      "metadata": {
        "id": "debf497a"
      },
      "outputs": [
        {
          "name": "stdout",
          "output_type": "stream",
          "text": [
            "<_io.TextIOWrapper name='notas.txt' mode='r' encoding='cp1252'>\n"
          ]
        }
      ],
      "source": [
        "arquivo = open('notas.txt', 'r')                          \n",
        "print(arquivo)"
      ]
    },
    {
      "cell_type": "code",
      "execution_count": 19,
      "id": "ba09208e",
      "metadata": {
        "id": "ba09208e"
      },
      "outputs": [
        {
          "name": "stdout",
          "output_type": "stream",
          "text": [
            "Matheus\n",
            "10.0\n",
            "Ana \n",
            "10.0\n",
            "Daniel\n",
            "6.8\n",
            "---------------------aqui mostro a soma\n",
            "A média da turma foi de 8.93\n"
          ]
        }
      ],
      "source": [
        "with open('notas.txt', 'r') as arquivo:\n",
        "    conteudo = arquivo.readlines()\n",
        "    #print(conteudo)\n",
        "    soma = 0\n",
        "    for i in conteudo:\n",
        "        #print(i)\n",
        "        tirar_espaço = i.strip().split(\";\")\n",
        "        #print(tirar_espaço)\n",
        "        nome = tirar_espaço[0]\n",
        "        nota = float(tirar_espaço[1])\n",
        "        print(nome)\n",
        "        print(nota)\n",
        "        soma+= nota\n",
        "\n",
        "print(\"---------------------aqui mostro a soma\")\n",
        "media = soma /3\n",
        "\n",
        "print(f\"A média da turma foi de {round(media,2)}\")\n",
        "\n",
        "        \n"
      ]
    }
  ],
  "metadata": {
    "colab": {
      "provenance": []
    },
    "kernelspec": {
      "display_name": "Python 3",
      "language": "python",
      "name": "python3"
    },
    "language_info": {
      "codemirror_mode": {
        "name": "ipython",
        "version": 3
      },
      "file_extension": ".py",
      "mimetype": "text/x-python",
      "name": "python",
      "nbconvert_exporter": "python",
      "pygments_lexer": "ipython3",
      "version": "3.13.2"
    }
  },
  "nbformat": 4,
  "nbformat_minor": 5
}
